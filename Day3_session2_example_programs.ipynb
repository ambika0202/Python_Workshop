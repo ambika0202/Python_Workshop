{
  "nbformat": 4,
  "nbformat_minor": 0,
  "metadata": {
    "colab": {
      "name": "Day3 session2 example programs",
      "provenance": [],
      "collapsed_sections": [],
      "authorship_tag": "ABX9TyNvjG5+t+VemC4AEGIMJURS",
      "include_colab_link": true
    },
    "kernelspec": {
      "name": "python3",
      "display_name": "Python 3"
    }
  },
  "cells": [
    {
      "cell_type": "markdown",
      "metadata": {
        "id": "view-in-github",
        "colab_type": "text"
      },
      "source": [
        "<a href=\"https://colab.research.google.com/github/ambika0202/Python_Workshop/blob/master/Day3_session2_example_programs.ipynb\" target=\"_parent\"><img src=\"https://colab.research.google.com/assets/colab-badge.svg\" alt=\"Open In Colab\"/></a>"
      ]
    },
    {
      "cell_type": "markdown",
      "metadata": {
        "id": "H-O0aIsjbdde",
        "colab_type": "text"
      },
      "source": [
        " # Finding the factorial of a number"
      ]
    },
    {
      "cell_type": "code",
      "metadata": {
        "id": "k2SfhrC9bm3h",
        "colab_type": "code",
        "colab": {
          "base_uri": "https://localhost:8080/",
          "height": 68
        },
        "outputId": "efa13cca-3633-4a2f-8a59-5ae94a173684"
      },
      "source": [
        " \n",
        "#Python Program to find the factorial of a number using loop. \n",
        "n=int(input(\"Enter number:\"))\n",
        "fact=1\n",
        "while(n>0):\n",
        "    fact=fact*n\n",
        "    n=n-1\n",
        "print(\"Factorial of the number is: \")\n",
        "print(fact)"
      ],
      "execution_count": null,
      "outputs": [
        {
          "output_type": "stream",
          "text": [
            "Enter number:5\n",
            "Factorial of the number is: \n",
            "120\n"
          ],
          "name": "stdout"
        }
      ]
    },
    {
      "cell_type": "markdown",
      "metadata": {
        "id": "s6J_wUgJcKS0",
        "colab_type": "text"
      },
      "source": [
        "# Program for multiples of 2 of a list without list comprehension"
      ]
    },
    {
      "cell_type": "code",
      "metadata": {
        "id": "0Bg8rSS4b5jE",
        "colab_type": "code",
        "colab": {
          "base_uri": "https://localhost:8080/",
          "height": 34
        },
        "outputId": "1abf3fed-4295-4565-faf8-ce2dcf2a3d16"
      },
      "source": [
        " \n",
        "x=[1, 2, 3, 4, 5, 6]\n",
        "result = []\n",
        "for idx in range(len(x)):\n",
        "  result.append(x[idx] * 2)\n",
        "print(result)"
      ],
      "execution_count": null,
      "outputs": [
        {
          "output_type": "stream",
          "text": [
            "[2, 4, 6, 8, 10, 12]\n"
          ],
          "name": "stdout"
        }
      ]
    },
    {
      "cell_type": "markdown",
      "metadata": {
        "id": "evTGN_pGb_dF",
        "colab_type": "text"
      },
      "source": [
        " # Single line program of Pythonic coding"
      ]
    },
    {
      "cell_type": "code",
      "metadata": {
        "id": "aFzopme2cVVi",
        "colab_type": "code",
        "colab": {
          "base_uri": "https://localhost:8080/",
          "height": 34
        },
        "outputId": "5223ce1d-5e3a-4eb8-9935-35cbfe849a7b"
      },
      "source": [
        " \n",
        "print([i*2 for i in [1, 2, 3, 4, 5, 6] ])"
      ],
      "execution_count": null,
      "outputs": [
        {
          "output_type": "stream",
          "text": [
            "[2, 4, 6, 8, 10, 12]\n"
          ],
          "name": "stdout"
        }
      ]
    },
    {
      "cell_type": "markdown",
      "metadata": {
        "id": "3hnnIBdsccsl",
        "colab_type": "text"
      },
      "source": [
        "# More Pythonic program of 3 lines"
      ]
    },
    {
      "cell_type": "code",
      "metadata": {
        "id": "Harsl4aRcmUo",
        "colab_type": "code",
        "colab": {
          "base_uri": "https://localhost:8080/",
          "height": 51
        },
        "outputId": "b73e5478-09ee-4067-87f3-85ed6dbcfd2b"
      },
      "source": [
        " \n",
        "from functools import reduce\n",
        "sequences = [x for x in range(1,int(input('Enter no'))+1)]\n",
        "product = reduce(lambda x, y: x*y, sequences)\n",
        "print(product)"
      ],
      "execution_count": null,
      "outputs": [
        {
          "output_type": "stream",
          "text": [
            "Enter no6\n",
            "720\n"
          ],
          "name": "stdout"
        }
      ]
    },
    {
      "cell_type": "markdown",
      "metadata": {
        "id": "6k66DK5ycryD",
        "colab_type": "text"
      },
      "source": [
        "# Number and its square as Tuple for a range"
      ]
    },
    {
      "cell_type": "code",
      "metadata": {
        "id": "Q49YVHnuc05A",
        "colab_type": "code",
        "colab": {
          "base_uri": "https://localhost:8080/",
          "height": 63
        },
        "outputId": "ed6ee339-da81-47de-f24f-f506b80984bb"
      },
      "source": [
        " \n",
        "l_range=int(input(\"Enter the lower range:\"))\n",
        "u_range=int(input(\"Enter the upper range:\"))\n",
        "a=[(x,x**2) for x in range(l_range,u_range+1)]\n",
        "print(a)"
      ],
      "execution_count": null,
      "outputs": [
        {
          "output_type": "stream",
          "text": [
            "Enter the lower range:2\n",
            "Enter the upper range:4\n",
            "[(2, 4), (3, 9), (4, 16)]\n"
          ],
          "name": "stdout"
        }
      ]
    },
    {
      "cell_type": "markdown",
      "metadata": {
        "id": "TMXEMxKbc7hn",
        "colab_type": "text"
      },
      "source": [
        "# The most Pythonic program of a sinle line program is given below"
      ]
    },
    {
      "cell_type": "code",
      "metadata": {
        "id": "4nADr77mdDUy",
        "colab_type": "code",
        "colab": {
          "base_uri": "https://localhost:8080/",
          "height": 88
        },
        "outputId": "da2bad62-e00c-4473-e156-1e9d3be74502"
      },
      "source": [
        " \n",
        "print([(x,x**2) for x in range(int(input(\"Enter the lower range:\")),\\\n",
        "                           int(input(\"Enter the upper range:\"))+1)])"
      ],
      "execution_count": null,
      "outputs": [
        {
          "output_type": "stream",
          "text": [
            "Enter the lower range:3\n",
            "Enter the upper range:7\n",
            "[(3, 9), (4, 16), (5, 25), (6, 36), (7, 49)]\n"
          ],
          "name": "stdout"
        }
      ]
    },
    {
      "cell_type": "markdown",
      "metadata": {
        "id": "d2UDkZvRdITH",
        "colab_type": "text"
      },
      "source": [
        "# Finding the perfect squares"
      ]
    },
    {
      "cell_type": "code",
      "metadata": {
        "id": "RA9y7SXKdPDo",
        "colab_type": "code",
        "colab": {
          "base_uri": "https://localhost:8080/",
          "height": 34
        },
        "outputId": "390e52e4-d72a-4814-a7d3-5bb89985724d"
      },
      "source": [
        " \n",
        "from math import *\n",
        "sequences = [10,2,8,7,5,4,3,11,0,9,16,1]\n",
        "result=[]\n",
        "for i in sequences:\n",
        "  if int(sqrt(i))**2==i:\n",
        "    result.append(i)\n",
        "print(result)"
      ],
      "execution_count": null,
      "outputs": [
        {
          "output_type": "stream",
          "text": [
            "[4, 0, 9, 16, 1]\n"
          ],
          "name": "stdout"
        }
      ]
    },
    {
      "cell_type": "markdown",
      "metadata": {
        "id": "eSNcHDbYdTnP",
        "colab_type": "text"
      },
      "source": [
        "# Pythonic program of 3 lines"
      ]
    },
    {
      "cell_type": "code",
      "metadata": {
        "id": "9cIfgQlddYFQ",
        "colab_type": "code",
        "colab": {
          "base_uri": "https://localhost:8080/",
          "height": 34
        },
        "outputId": "c0c971f3-83e6-428a-d571-22a03ef2fa1a"
      },
      "source": [
        " \n",
        "sequences = [10,2,8,7,5,4,3,11,0,9,16,1]\n",
        "filtered_result = filter(lambda x: int(sqrt(x))**2==x, sequences) \n",
        "print(list(filtered_result))"
      ],
      "execution_count": null,
      "outputs": [
        {
          "output_type": "stream",
          "text": [
            "[4, 0, 9, 16, 1]\n"
          ],
          "name": "stdout"
        }
      ]
    },
    {
      "cell_type": "markdown",
      "metadata": {
        "id": "tLbC79L4dcGm",
        "colab_type": "text"
      },
      "source": [
        " # Program to ¦nd the largest number in a list"
      ]
    },
    {
      "cell_type": "code",
      "metadata": {
        "id": "nJF_yK0sdgTA",
        "colab_type": "code",
        "colab": {
          "base_uri": "https://localhost:8080/",
          "height": 85
        },
        "outputId": "ffc3ecae-9e4d-43ce-e438-994b46d677ca"
      },
      "source": [
        " \n",
        "a=[]\n",
        "n=int(input(\"Enter number of elements:\"))\n",
        "for i in range(1,n+1):\n",
        "    b=int(input(\"Enter element:\"))\n",
        "    a.append(b)\n",
        "a.sort()\n",
        "print(\"Largest element is:\",a[n-1])"
      ],
      "execution_count": null,
      "outputs": [
        {
          "output_type": "stream",
          "text": [
            "Enter number of elements:2\n",
            "Enter element:4\n",
            "Enter element:6\n",
            "Largest element is: 6\n"
          ],
          "name": "stdout"
        }
      ]
    },
    {
      "cell_type": "markdown",
      "metadata": {
        "id": "5PgOJHQ2dkd1",
        "colab_type": "text"
      },
      "source": [
        " # 2 lines program equivalent to above codings as shown below"
      ]
    },
    {
      "cell_type": "code",
      "metadata": {
        "id": "3OtXeVv3dtdz",
        "colab_type": "code",
        "colab": {
          "base_uri": "https://localhost:8080/",
          "height": 85
        },
        "outputId": "9466f0ba-b931-42ff-c66b-e8a52e4e54e9"
      },
      "source": [
        " \n",
        "x=0\n",
        "print('The greatest no is',max([int(input(x)) for _ in range(int(input(\"Enter no\")))]))"
      ],
      "execution_count": null,
      "outputs": [
        {
          "output_type": "stream",
          "text": [
            "Enter no2\n",
            "4\n",
            "6\n",
            "The greatest no is 6\n"
          ],
          "name": "stdout"
        }
      ]
    },
    {
      "cell_type": "markdown",
      "metadata": {
        "id": "21763EUrd0Q0",
        "colab_type": "text"
      },
      "source": [
        " # Program to put the even and odd elements in a list into two different lists."
      ]
    },
    {
      "cell_type": "code",
      "metadata": {
        "id": "iH74wofzd7rP",
        "colab_type": "code",
        "colab": {
          "base_uri": "https://localhost:8080/",
          "height": 136
        },
        "outputId": "b26397cf-357b-439d-cc76-b8650a623a89"
      },
      "source": [
        " \n",
        "a=[]\n",
        "n=int(input(\"Enter number of elements:\"))\n",
        "for i in range(1,n+1):\n",
        "    b=int(input(\"Enter element:\"))\n",
        "    a.append(b)\n",
        "even=[]\n",
        "odd=[]\n",
        "for j in a:\n",
        "    if(j%2==0):\n",
        "        even.append(j)\n",
        "    else:\n",
        "        odd.append(j)\n",
        "print(\"The even list\",even)\n",
        "print(\"The odd list\",odd)"
      ],
      "execution_count": null,
      "outputs": [
        {
          "output_type": "stream",
          "text": [
            "Enter number of elements:4\n",
            "Enter element:3\n",
            "Enter element:5\n",
            "Enter element:6\n",
            "Enter element:7\n",
            "The even list [6]\n",
            "The odd list [3, 5, 7]\n"
          ],
          "name": "stdout"
        }
      ]
    },
    {
      "cell_type": "markdown",
      "metadata": {
        "id": "ByQSiON2d_mc",
        "colab_type": "text"
      },
      "source": [
        " # Instead of forementioned 14 lines program, the equivalent 4 lines"
      ]
    },
    {
      "cell_type": "code",
      "metadata": {
        "id": "BEh2G7umeI9-",
        "colab_type": "code",
        "colab": {
          "base_uri": "https://localhost:8080/",
          "height": 102
        },
        "outputId": "d60b5efa-9c66-418f-a800-f6a14e51837c"
      },
      "source": [
        " \n",
        "x=0\n",
        "l=[int(input(x)) for _ in range(int(input(\"Enter n\")))]\n",
        "print('odd list is',[ i for i in l if i%2])\n",
        "print('even list is',[i for i in l if not i%2])"
      ],
      "execution_count": null,
      "outputs": [
        {
          "output_type": "stream",
          "text": [
            "Enter n2\n",
            "4\n",
            "7\n",
            "odd list is [7]\n",
            "even list is [4]\n"
          ],
          "name": "stdout"
        }
      ]
    },
    {
      "cell_type": "markdown",
      "metadata": {
        "id": "5HLYEa7heMnd",
        "colab_type": "text"
      },
      "source": [
        " # Python Program to merge two lists and sort it."
      ]
    },
    {
      "cell_type": "code",
      "metadata": {
        "id": "GbeML6CNeTd3",
        "colab_type": "code",
        "colab": {
          "base_uri": "https://localhost:8080/",
          "height": 153
        },
        "outputId": "4ae60a37-7dea-4384-cd57-58814be500f0"
      },
      "source": [
        " \n",
        "a=[]\n",
        "c=[]\n",
        "n1=int(input(\"Enter number of elements:\"))\n",
        "for i in range(1,n1+1):\n",
        "    b=int(input(\"Enter element:\"))\n",
        "    a.append(b)\n",
        "n2=int(input(\"Enter number of elements:\"))\n",
        "for i in range(1,n2+1):\n",
        "    d=int(input(\"Enter element:\"))\n",
        "    c.append(d)\n",
        "new=a+c\n",
        "new.sort()\n",
        "print(\"Sorted list is:\",new)"
      ],
      "execution_count": null,
      "outputs": [
        {
          "output_type": "stream",
          "text": [
            "Enter number of elements:2\n",
            "Enter element:4\n",
            "Enter element:6\n",
            "Enter number of elements:3\n",
            "Enter element:6\n",
            "Enter element:8\n",
            "Enter element:5\n",
            "Sorted list is: [4, 5, 6, 6, 8]\n"
          ],
          "name": "stdout"
        }
      ]
    },
    {
      "cell_type": "markdown",
      "metadata": {
        "id": "lX4EJKYpescm",
        "colab_type": "text"
      },
      "source": [
        " # Instead of forementioned 13 lines program, the equivalent 5 lines"
      ]
    },
    {
      "cell_type": "code",
      "metadata": {
        "id": "xwSOhdjWehgq",
        "colab_type": "code",
        "colab": {
          "base_uri": "https://localhost:8080/",
          "height": 241
        },
        "outputId": "5dc8dfe9-2abc-420e-eedb-801ccdf9c952"
      },
      "source": [
        " \n",
        "x=0\n",
        "l=[int(input(x)) for _ in range(int(input(\"Enter how many elements\")))]\n",
        "m=[int(input(x)) for _ in range(int(input(\"Enter how many elements \")))]\n",
        "new=l+m\n",
        "new.sort()\n",
        "print(\"Sorted list is:\",new)"
      ],
      "execution_count": null,
      "outputs": [
        {
          "output_type": "stream",
          "text": [
            "Enter how many elements2\n",
            "4\n",
            "5\n",
            "Enter how many elements 7\n",
            "8\n",
            "4\n",
            "7\n",
            "9\n",
            "3\n",
            "2\n",
            "1\n",
            "Sorted list is: [1, 2, 3, 4, 4, 5, 7, 8, 9]\n"
          ],
          "name": "stdout"
        }
      ]
    },
    {
      "cell_type": "markdown",
      "metadata": {
        "id": "xW_eWLvdfFUe",
        "colab_type": "text"
      },
      "source": [
        "# Instead of forementioned 8 lines program, the equivalent 3 lines"
      ]
    },
    {
      "cell_type": "code",
      "metadata": {
        "id": "bjqiC9fpfMlz",
        "colab_type": "code",
        "colab": {
          "base_uri": "https://localhost:8080/",
          "height": 54
        },
        "outputId": "c0992b48-2c56-4eaf-deb6-ca41b0d2b1af"
      },
      "source": [
        " \n",
        "a=[['A',34],['B',21],['C',26],['E',29]]\n",
        "a.sort(key = lambda x: x[1]) \n",
        "print(a)"
      ],
      "execution_count": null,
      "outputs": [
        {
          "output_type": "stream",
          "text": [
            "[['B', 21], ['C', 26], ['E', 29], ['A', 34]]\n"
          ],
          "name": "stdout"
        }
      ]
    },
    {
      "cell_type": "markdown",
      "metadata": {
        "id": "DqHIV1j7fSZf",
        "colab_type": "text"
      },
      "source": [
        " # Program to ¦nd the second largest number in a list"
      ]
    },
    {
      "cell_type": "code",
      "metadata": {
        "id": "4rp7bTlmfXUI",
        "colab_type": "code",
        "colab": {
          "base_uri": "https://localhost:8080/",
          "height": 85
        },
        "outputId": "c0ce89e3-01ec-49e7-c2a4-9c922e8994d3"
      },
      "source": [
        " \n",
        "a=[]\n",
        "n=int(input(\"Enter number of elements:\"))\n",
        "for i in range(1,n+1):\n",
        "    b=int(input(\"Enter element:\"))\n",
        "    a.append(b)\n",
        "for i in range(0,len(a)):\n",
        "    for j in range(0,len(a)-i-1):\n",
        "        if(a[j]>a[j+1]):\n",
        "            temp=a[j]\n",
        "            a[j]=a[j+1]\n",
        "            a[j+1]=temp \n",
        "print('Second largest number is:',a[n-2])"
      ],
      "execution_count": null,
      "outputs": [
        {
          "output_type": "stream",
          "text": [
            "Enter number of elements:2\n",
            "Enter element:4\n",
            "Enter element:6\n",
            "Second largest number is: 4\n"
          ],
          "name": "stdout"
        }
      ]
    },
    {
      "cell_type": "markdown",
      "metadata": {
        "id": "C3bid1lhfkpr",
        "colab_type": "text"
      },
      "source": [
        "# Instead of forementioned 12 lines program, the equivalent 4 lines progam"
      ]
    },
    {
      "cell_type": "code",
      "metadata": {
        "id": "WpFi7OgwfpLR",
        "colab_type": "code",
        "colab": {
          "base_uri": "https://localhost:8080/",
          "height": 85
        },
        "outputId": "d13f93e7-e8e4-4496-8afa-d3920e131c56"
      },
      "source": [
        " \n",
        "x=0\n",
        "l=[int(input(x)) for _ in range(int(input(\"Enter how many elements\")))]\n",
        "l.sort()\n",
        "print(\"Second largest element is :\",l[-2])"
      ],
      "execution_count": null,
      "outputs": [
        {
          "output_type": "stream",
          "text": [
            "Enter how many elements2\n",
            "5\n",
            "8\n",
            "Second largest element is : 5\n"
          ],
          "name": "stdout"
        }
      ]
    },
    {
      "cell_type": "markdown",
      "metadata": {
        "id": "BGWz6mLdft3v",
        "colab_type": "text"
      },
      "source": [
        " # Program to create a list of tuples with the first element as the number and the second\n",
        "element as the square of the number."
      ]
    },
    {
      "cell_type": "code",
      "metadata": {
        "id": "HBQOyPeCf36D",
        "colab_type": "code",
        "colab": {
          "base_uri": "https://localhost:8080/",
          "height": 88
        },
        "outputId": "7b61f3c4-7638-48c8-bc96-98b09c724991"
      },
      "source": [
        " \n",
        "l_range=int(input(\"Enter the lower range:\"))\n",
        "u_range=int(input(\"Enter the upper range:\"))\n",
        "a=[(x,x**2) for x in range(l_range,u_range+1)]\n",
        "print(a)"
      ],
      "execution_count": null,
      "outputs": [
        {
          "output_type": "stream",
          "text": [
            "Enter the lower range:3\n",
            "Enter the upper range:7\n",
            "[(3, 9), (4, 16), (5, 25), (6, 36), (7, 49)]\n"
          ],
          "name": "stdout"
        }
      ]
    },
    {
      "cell_type": "code",
      "metadata": {
        "id": "kMK2eb2cgLQW",
        "colab_type": "code",
        "colab": {
          "base_uri": "https://localhost:8080/",
          "height": 88
        },
        "outputId": "3c256c6f-7a60-4e51-f2b3-399d24746cb4"
      },
      "source": [
        " \n",
        "a=[(x,x**2) for x in range(int(input(\"Enter the lower range:\")),\\\n",
        "                           int(input(\"Enter the upper range:\"))+1)]\n",
        "print(a)"
      ],
      "execution_count": null,
      "outputs": [
        {
          "output_type": "stream",
          "text": [
            "Enter the lower range:5\n",
            "Enter the upper range:8\n",
            "[(5, 25), (6, 36), (7, 49), (8, 64)]\n"
          ],
          "name": "stdout"
        }
      ]
    },
    {
      "cell_type": "markdown",
      "metadata": {
        "id": "uGeMaYxJgN7M",
        "colab_type": "text"
      },
      "source": [
        " # We can write in the most pythonic way with one line ! as follows"
      ]
    },
    {
      "cell_type": "code",
      "metadata": {
        "id": "_pehOScagSfC",
        "colab_type": "code",
        "colab": {
          "base_uri": "https://localhost:8080/",
          "height": 68
        },
        "outputId": "533bfa5a-86c3-47a8-aa84-196ca77b26c0"
      },
      "source": [
        " \n",
        "print([(x,x**2) for x in range(int(input(\"Enter the lower range:\")),\\\n",
        "                           int(input(\"Enter the upper range:\"))+1)])"
      ],
      "execution_count": null,
      "outputs": [
        {
          "output_type": "stream",
          "text": [
            "Enter the lower range:5\n",
            "Enter the upper range:7\n",
            "[(5, 25), (6, 36), (7, 49)]\n"
          ],
          "name": "stdout"
        }
      ]
    },
    {
      "cell_type": "markdown",
      "metadata": {
        "id": "_3T7U_nQgWSN",
        "colab_type": "text"
      },
      "source": [
        " # Program to generate random numbers from 1 to 20 and append them to the list."
      ]
    },
    {
      "cell_type": "code",
      "metadata": {
        "id": "gbfqxzn4gfDS",
        "colab_type": "code",
        "colab": {
          "base_uri": "https://localhost:8080/",
          "height": 51
        },
        "outputId": "ed810ed3-dfe0-4cc1-e216-de61b0ea2288"
      },
      "source": [
        " \n",
        "import random\n",
        "a=[]\n",
        "n=int(input(\"Enter number of elements:\"))\n",
        "for j in range(n):\n",
        "    a.append(random.randint(1,20))\n",
        "print('Randomised list is: ',a)"
      ],
      "execution_count": null,
      "outputs": [
        {
          "output_type": "stream",
          "text": [
            "Enter number of elements:2\n",
            "Randomised list is:  [8, 7]\n"
          ],
          "name": "stdout"
        }
      ]
    },
    {
      "cell_type": "markdown",
      "metadata": {
        "id": "VK3lsqSzgiuZ",
        "colab_type": "text"
      },
      "source": [
        " # Pythonic program of 2 lines"
      ]
    },
    {
      "cell_type": "code",
      "metadata": {
        "id": "UqckNDIbgqPX",
        "colab_type": "code",
        "colab": {
          "base_uri": "https://localhost:8080/",
          "height": 71
        },
        "outputId": "2b112c6e-0abc-4565-c15d-5cdcfb591e7d"
      },
      "source": [
        " \n",
        "import random\n",
        "l=[random.randint(1,20) for _ in range(int(input(\"Enter how many elements\")))]\n",
        "print('Randomised list is: ',l)"
      ],
      "execution_count": null,
      "outputs": [
        {
          "output_type": "stream",
          "text": [
            "Enter how many elements4\n",
            "Randomised list is:  [16, 14, 5, 13]\n"
          ],
          "name": "stdout"
        }
      ]
    },
    {
      "cell_type": "markdown",
      "metadata": {
        "id": "Yi-WlUMZgtsh",
        "colab_type": "text"
      },
      "source": [
        "# Program for printing list of values with indexing"
      ]
    },
    {
      "cell_type": "code",
      "metadata": {
        "id": "3i0NinChgzZz",
        "colab_type": "code",
        "colab": {
          "base_uri": "https://localhost:8080/",
          "height": 221
        },
        "outputId": "a33d6d07-2e6d-4a9e-c8c6-8e0dce0b71ef"
      },
      "source": [
        " \n",
        "names = ['Jan','Feb','Mar','Apr','May','Jun','Jul','Aug','Sep','Oct','Nov','Dec']\n",
        "index=0\n",
        "for i in names:\n",
        "    print(str(index)+\":\"+i)\n",
        "    index=index+1"
      ],
      "execution_count": null,
      "outputs": [
        {
          "output_type": "stream",
          "text": [
            "0:Jan\n",
            "1:Feb\n",
            "2:Mar\n",
            "3:Apr\n",
            "4:May\n",
            "5:Jun\n",
            "6:Jul\n",
            "7:Aug\n",
            "8:Sep\n",
            "9:Oct\n",
            "10:Nov\n",
            "11:Dec\n"
          ],
          "name": "stdout"
        }
      ]
    },
    {
      "cell_type": "markdown",
      "metadata": {
        "id": "KNAHXeFrg8jA",
        "colab_type": "text"
      },
      "source": [
        "# using Pythonic way using enumerate()"
      ]
    },
    {
      "cell_type": "code",
      "metadata": {
        "id": "9QRtMxfLhAid",
        "colab_type": "code",
        "colab": {
          "base_uri": "https://localhost:8080/",
          "height": 221
        },
        "outputId": "a153e7d8-d6e6-4e39-a48f-42a90dfb1545"
      },
      "source": [
        " \n",
        "names = ['Jan','Feb','Mar','Apr','May','Jun','Jul','Aug','Sep','Oct','Nov','Dec']\n",
        "for index, value in enumerate(names):\n",
        "    print(f'{index+1}: {value}')"
      ],
      "execution_count": null,
      "outputs": [
        {
          "output_type": "stream",
          "text": [
            "1: Jan\n",
            "2: Feb\n",
            "3: Mar\n",
            "4: Apr\n",
            "5: May\n",
            "6: Jun\n",
            "7: Jul\n",
            "8: Aug\n",
            "9: Sep\n",
            "10: Oct\n",
            "11: Nov\n",
            "12: Dec\n"
          ],
          "name": "stdout"
        }
      ]
    }
  ]
}