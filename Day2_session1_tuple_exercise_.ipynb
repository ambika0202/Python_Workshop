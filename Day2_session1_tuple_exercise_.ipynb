{
  "nbformat": 4,
  "nbformat_minor": 0,
  "metadata": {
    "colab": {
      "name": "Day2 session1 tuple exercise .ipynb",
      "provenance": [],
      "collapsed_sections": [],
      "authorship_tag": "ABX9TyMxW2odFhNz8iGDL1SHmlT0",
      "include_colab_link": true
    },
    "kernelspec": {
      "name": "python3",
      "display_name": "Python 3"
    }
  },
  "cells": [
    {
      "cell_type": "markdown",
      "metadata": {
        "id": "view-in-github",
        "colab_type": "text"
      },
      "source": [
        "<a href=\"https://colab.research.google.com/github/ambika0202/Python_Workshop/blob/master/Day2_session1_tuple_exercise_.ipynb\" target=\"_parent\"><img src=\"https://colab.research.google.com/assets/colab-badge.svg\" alt=\"Open In Colab\"/></a>"
      ]
    },
    {
      "cell_type": "markdown",
      "metadata": {
        "id": "V89sjvtUjiAQ",
        "colab_type": "text"
      },
      "source": [
        "#1. Python Program to Create a List of Tuples with the First Element as the Number and Second Element as the Square of the Number"
      ]
    },
    {
      "cell_type": "code",
      "metadata": {
        "id": "10JFNW2Llc6V",
        "colab_type": "code",
        "colab": {
          "base_uri": "https://localhost:8080/",
          "height": 63
        },
        "outputId": "823278f5-f046-4eac-b4a7-2d3b4949a1d1"
      },
      "source": [
        " \n",
        "l_range=int(input(\"Enter the lower range:\")) \n",
        "u_range=int(input(\"Enter the upper range:\")) \n",
        "a=[(x,x**2) \n",
        "for x in range(l_range,u_range+1)]\n",
        " print(a)"
      ],
      "execution_count": null,
      "outputs": [
        {
          "output_type": "stream",
          "text": [
            "Enter the lower range:2\n",
            "Enter the upper range:4\n",
            "[(2, 4), (3, 9), (4, 16)]\n"
          ],
          "name": "stdout"
        }
      ]
    },
    {
      "cell_type": "markdown",
      "metadata": {
        "id": "dGUU0LxOlseV",
        "colab_type": "text"
      },
      "source": [
        "#2. Write python program to have a list of words  to sort them from  shortest to longest using list of tuples"
      ]
    },
    {
      "cell_type": "code",
      "metadata": {
        "id": "abPeYpzHlzFG",
        "colab_type": "code",
        "colab": {
          "base_uri": "https://localhost:8080/",
          "height": 52
        },
        "outputId": "fe9fc788-f075-4c81-e9ef-da087904c9da"
      },
      "source": [
        " \n",
        "def Sorting(lst): \n",
        " \n",
        "    lst.sort(key=len) \n",
        " \n",
        "    return lst \n",
        " \n",
        "      \n",
        "# Driver code \n",
        " \n",
        "lst = [\"rohan\", \"amy\", \"sapna\", \"muhammad\",  \n",
        " \n",
        "       \"aakash\", \"raunak\", \"chinmoy\"] \n",
        " \n",
        "print(Sorting(lst))"
      ],
      "execution_count": null,
      "outputs": [
        {
          "output_type": "stream",
          "text": [
            "['amy', 'rohan', 'sapna', 'aakash', 'raunak', 'chinmoy', 'muhammad']\n"
          ],
          "name": "stdout"
        }
      ]
    },
    {
      "cell_type": "markdown",
      "metadata": {
        "id": "Ymsd0TMVoEyi",
        "colab_type": "text"
      },
      "source": [
        "#3.Write python program to get a list of tuples of Rollno,Name for 5 students through keyboard and sort them Rollno wise ascending order"
      ]
    },
    {
      "cell_type": "code",
      "metadata": {
        "id": "H87gLNL3oK_V",
        "colab_type": "code",
        "colab": {
          "base_uri": "https://localhost:8080/",
          "height": 236
        },
        "outputId": "5db39536-3fc7-451e-8494-40c27e3ed4e8"
      },
      "source": [
        "l = []\n",
        " \n",
        "def inp():\n",
        "  name = input('Name : ')\n",
        "  rolno = input(' Rol No : ')\n",
        "  return (name,rolno) \n",
        " # returns tuples\n",
        " \n",
        "n = int(input('Number of Students : '))\n",
        "for x in range(n):\n",
        "  l.append(inp())\n",
        " \n",
        "print(f'Original : {l}')\n",
        " \n",
        "l.sort(key = lambda x:x[1])\n",
        "print(f'According to Rol No : Ascending :{l}')"
      ],
      "execution_count": null,
      "outputs": [
        {
          "output_type": "stream",
          "text": [
            "Number of Students : 5\n",
            "Name : Ambika\n",
            " Rol No : 07\n",
            "Name : Maya\n",
            " Rol No : 10\n",
            "Name : Mandira \n",
            " Rol No : 01\n",
            "Name : Chandu\n",
            " Rol No : 04\n",
            "Name : Churashma\n",
            " Rol No : 06\n",
            "Original : [('Ambika', '07'), ('Maya', '10'), ('Mandira ', '01'), ('Chandu', '04'), ('Churashma', '06')]\n",
            "According to Rol No : Ascending :[('Mandira ', '01'), ('Chandu', '04'), ('Churashma', '06'), ('Ambika', '07'), ('Maya', '10')]\n"
          ],
          "name": "stdout"
        }
      ]
    },
    {
      "cell_type": "markdown",
      "metadata": {
        "id": "g5cla6c0tggR",
        "colab_type": "text"
      },
      "source": [
        "#4.Write python program to get a list of tuples of Rollno,Name for 5 students through keyboard and sort them by Rollno wise descending order"
      ]
    },
    {
      "cell_type": "code",
      "metadata": {
        "id": "zoIGfzTNtidU",
        "colab_type": "code",
        "colab": {
          "base_uri": "https://localhost:8080/",
          "height": 343
        },
        "outputId": "f3187e3d-e343-46e7-c6d9-cf62ac8556eb"
      },
      "source": [
        " \n",
        "l = []\n",
        " \n",
        "def inp():\n",
        "  name = input('Name : ')\n",
        "  rolno = input(' Rol No : ')\n",
        "  return (name,rolno)  # returns tuples\n",
        " \n",
        "n = int(input('Number of Students : '))\n",
        "for x in range(n):\n",
        "  l.append(inp())\n",
        " \n",
        "print(f'Original : {l}')\n",
        " \n",
        "l.sort(key = lambda x:x[1])\n",
        "print(f'According to Rol No : Descending :{l[::-1]}')"
      ],
      "execution_count": null,
      "outputs": [
        {
          "output_type": "stream",
          "text": [
            "Number of Students : 5\n",
            "Name : Ambika\n",
            " Rol No : 07\n",
            "Name : Maya\n",
            " Rol No : 10\n",
            "Name : Mandira \n",
            " Rol No : 04\n",
            "Name : Chandu \n",
            " Rol No : 03\n",
            "Name : Sonia \n",
            " Rol No : 02\n",
            "Original : [('Ambika', '07'), ('Maya', '10'), ('Mandira ', '04'), ('Chandu ', '03'), ('Sonia ', '02')]\n",
            "According to Rol No : Descending :[('Maya', '10'), ('Ambika', '07'), ('Mandira ', '04'), ('Chandu ', '03'), ('Sonia ', '02')]\n",
            "Number of Students : 2\n",
            "Name : Ambi\n",
            " Rol No : 03\n",
            "Name : Maya\n",
            " Rol No : 03\n",
            "Original : [('Ambi', '03'), ('Maya', '03')]\n",
            "According to Rol No : Descending :[('Maya', '03'), ('Ambi', '03')]\n"
          ],
          "name": "stdout"
        }
      ]
    },
    {
      "cell_type": "markdown",
      "metadata": {
        "id": "zuUXkx5Stjcm",
        "colab_type": "text"
      },
      "source": [
        "#5.Write python program to get a list of tuples of Rollno,Name for 5 students through keyboard and sort them by Name wise ascending order"
      ]
    },
    {
      "cell_type": "code",
      "metadata": {
        "id": "4V-_xn8Jto10",
        "colab_type": "code",
        "colab": {
          "base_uri": "https://localhost:8080/",
          "height": 236
        },
        "outputId": "776bd621-5c29-4c7d-cf7d-cfa1bc4b1384"
      },
      "source": [
        " \n",
        "l = []\n",
        " \n",
        "def inp():\n",
        "  name = input('Name : ')\n",
        "  rolno = input(' Rol No : ')\n",
        "  return (name,rolno)  # returns tuples\n",
        " \n",
        "n = int(input('Number of Students : '))\n",
        "for x in range(n):\n",
        "  l.append(inp())\n",
        " \n",
        "print(f'Original : {l}')\n",
        " \n",
        "l.sort(key = lambda x:x[0])\n",
        "print(f'According to Name : Ascending :{l}')"
      ],
      "execution_count": null,
      "outputs": [
        {
          "output_type": "stream",
          "text": [
            "Number of Students : 5\n",
            "Name : Ambika\n",
            " Rol No : 1\n",
            "Name : Maya\n",
            " Rol No : 5\n",
            "Name : Chandu \n",
            " Rol No : 7\n",
            "Name : Mandira 1p\n",
            " Rol No : 10\n",
            "Name : Sonia \n",
            " Rol No : 2\n",
            "Original : [('Ambika', '1'), ('Maya', '5'), ('Chandu ', '7'), ('Mandira 1p', '10'), ('Sonia ', '2')]\n",
            "According to Name : Ascending :[('Ambika', '1'), ('Chandu ', '7'), ('Mandira 1p', '10'), ('Maya', '5'), ('Sonia ', '2')]\n"
          ],
          "name": "stdout"
        }
      ]
    },
    {
      "cell_type": "markdown",
      "metadata": {
        "id": "BsO823zltqTJ",
        "colab_type": "text"
      },
      "source": [
        "#6.Write python program to get a list of tuples of Rollno,Name for 5 students through keyboard and sort them by Name wise descending order"
      ]
    },
    {
      "cell_type": "code",
      "metadata": {
        "id": "trGpNWuptx0f",
        "colab_type": "code",
        "colab": {
          "base_uri": "https://localhost:8080/",
          "height": 175
        },
        "outputId": "c0f9f407-3582-44b9-e2b5-c4d9fbe4a112"
      },
      "source": [
        " \n",
        "l = []\n",
        " \n",
        "def inp():\n",
        "  name = input('Name : ')\n",
        "  rolno = input(' Rol No : ')\n",
        "  return (name,rolno)  # returns tuples\n",
        " \n",
        "n = int(input('Number of Students : '))\n",
        "for x in range(n):\n",
        "  l.append(inp())\n",
        " \n",
        "print(f'Original : {l}')\n",
        " \n",
        " \n",
        "l.sort(key = lambda x:x[0])\n",
        "print(f'According to Name : Descending :{l[::-1]}')"
      ],
      "execution_count": null,
      "outputs": [
        {
          "output_type": "stream",
          "text": [
            "Number of Students : 3\n",
            "Name : Ambika\n",
            " Rol No : 7\n",
            "Name : Maya\n",
            " Rol No : 8\n",
            "Name : Mandira \n",
            " Rol No : 3\n",
            "Original : [('Ambika', '7'), ('Maya', '8'), ('Mandira ', '3')]\n",
            "According to Name : Descending :[('Maya', '8'), ('Mandira ', '3'), ('Ambika', '7')]\n"
          ],
          "name": "stdout"
        }
      ]
    }
  ]
}