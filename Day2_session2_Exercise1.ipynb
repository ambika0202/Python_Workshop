{
  "nbformat": 4,
  "nbformat_minor": 0,
  "metadata": {
    "colab": {
      "name": "Day2 session2 Exercise1.ipynb",
      "provenance": [],
      "collapsed_sections": [],
      "authorship_tag": "ABX9TyNjxapl0sgOkcqzki5kuK7X",
      "include_colab_link": true
    },
    "kernelspec": {
      "name": "python3",
      "display_name": "Python 3"
    }
  },
  "cells": [
    {
      "cell_type": "markdown",
      "metadata": {
        "id": "view-in-github",
        "colab_type": "text"
      },
      "source": [
        "<a href=\"https://colab.research.google.com/github/ambika0202/Python_Workshop/blob/master/Day2_session2_Exercise1.ipynb\" target=\"_parent\"><img src=\"https://colab.research.google.com/assets/colab-badge.svg\" alt=\"Open In Colab\"/></a>"
      ]
    },
    {
      "cell_type": "markdown",
      "metadata": {
        "id": "Iqp1oKLruEfR",
        "colab_type": "text"
      },
      "source": [
        "#1.Add rollno and marks {name:mark} for n number of students through keyboard in a dictionary and print the marks in descending order with respective name."
      ]
    },
    {
      "cell_type": "code",
      "metadata": {
        "id": "CqOrlaz1udVK",
        "colab_type": "code",
        "colab": {
          "base_uri": "https://localhost:8080/",
          "height": 251
        },
        "outputId": "23d254ed-b71b-4cb8-c8d2-bf9453c3b100"
      },
      "source": [
        "dict={}\n",
        "n=int(input(\"enter the no of students\"))\n",
        "for i in range(n):\n",
        "  name=input(\"Enter the name\")\n",
        "  marks=int(input(\"Enter the marks\"))\n",
        "  dict[name]=marks\n",
        "print(dict)\n",
        "d1=dict.items()\n",
        "sort=sorted(d1,reverse=True);\n",
        "print(\"The sorted dictionary is\")\n",
        "print(sort)"
      ],
      "execution_count": null,
      "outputs": [
        {
          "output_type": "stream",
          "text": [
            "enter the no of students5\n",
            "Enter the nameAmbika \n",
            "Enter the marks85\n",
            "Enter the nameMaya\n",
            "Enter the marks65\n",
            "Enter the nameMandira \n",
            "Enter the marks75\n",
            "Enter the nameChandu \n",
            "Enter the marks50\n",
            "Enter the nameSonia \n",
            "Enter the marks60\n",
            "{'Ambika ': 85, 'Maya': 65, 'Mandira ': 75, 'Chandu ': 50, 'Sonia ': 60}\n",
            "The sorted dictionary is\n",
            "[('Sonia ', 60), ('Maya', 65), ('Mandira ', 75), ('Chandu ', 50), ('Ambika ', 85)]\n"
          ],
          "name": "stdout"
        }
      ]
    },
    {
      "cell_type": "markdown",
      "metadata": {
        "id": "4d9D0irtuem4",
        "colab_type": "text"
      },
      "source": [
        "#2.Add  name and salary {name:salary} for n number of employees through keyboard in a dictionary and print them in name alphabetical order with salary"
      ]
    },
    {
      "cell_type": "code",
      "metadata": {
        "id": "pzFrkKGgunOI",
        "colab_type": "code",
        "colab": {
          "base_uri": "https://localhost:8080/",
          "height": 190
        },
        "outputId": "30ca38a6-fa40-4cd4-95d2-109bdb23c59b"
      },
      "source": [
        " dict={}\n",
        "n=int(input(\"enter the no of employees:\"))\n",
        "for i in range(n):\n",
        "  name=input(\"Enter the name:\")\n",
        "  marks=int(input(\"Enter the salary:\"))\n",
        "  dict[name]=marks\n",
        "print(dict)\n",
        "d1=dict.items()\n",
        "sort=sorted(d1);\n",
        "print(\"The sorted dictionary is:\")\n",
        "print(sort)"
      ],
      "execution_count": null,
      "outputs": [
        {
          "output_type": "stream",
          "text": [
            "enter the no of employees:3\n",
            "Enter the name:Ambika\n",
            "Enter the salary:70000\n",
            "Enter the name:Maya\n",
            "Enter the salary:45000\n",
            "Enter the name:Mandira \n",
            "Enter the salary:55000\n",
            "{'Ambika': 70000, 'Maya': 45000, 'Mandira ': 55000}\n",
            "The sorted dictionary is:\n",
            "[('Ambika', 70000), ('Mandira ', 55000), ('Maya', 45000)]\n"
          ],
          "name": "stdout"
        }
      ]
    },
    {
      "cell_type": "markdown",
      "metadata": {
        "id": "7lEIn1heuoD7",
        "colab_type": "text"
      },
      "source": [
        "#3.Add  name and salary {name:salary} for n number of employees through keyboard in a dictionary and print them in salary  ascending order and  sum, max, min and average of the salaries"
      ]
    },
    {
      "cell_type": "code",
      "metadata": {
        "id": "-jjQNC-buvKt",
        "colab_type": "code",
        "colab": {
          "base_uri": "https://localhost:8080/",
          "height": 297
        },
        "outputId": "897c8549-e2b5-4e56-a4c3-c4e5194f8069"
      },
      "source": [
        " import statistics\n",
        "dict={}\n",
        "n=int(input(\"enter the no of employees:\"))\n",
        "for i in range(n):\n",
        "  name=input(\"Enter the name:\")\n",
        "  marks=int(input(\"Enter the salary:\"))\n",
        "  dict[name]=marks\n",
        "print(dict)\n",
        "sort=sorted(dict.items(),key=lambda x:x[1]);\n",
        "print(\"The sorted dictionary is:\")\n",
        "print(sort)\n",
        "print(\"The sum is:\")\n",
        "print(sum(dict.values()))\n",
        "print(\"the maximum is:\")\n",
        "max_val=max(dict,key=dict.get)\n",
        "print(max_val)\n",
        "print(\"the minimum is:\")\n",
        "min_val=min(dict,key=dict.get)\n",
        "print(min_val)\n",
        " \n",
        "mean= statistics.mean(dict.values()) \n",
        " \n",
        "print(\"The average of salary is:\",mean)"
      ],
      "execution_count": null,
      "outputs": [
        {
          "output_type": "stream",
          "text": [
            "enter the no of employees:3\n",
            "Enter the name:Ambika\n",
            "Enter the salary:65000\n",
            "Enter the name:Maya\n",
            "Enter the salary:55000\n",
            "Enter the name:Mandira \n",
            "Enter the salary:50000\n",
            "{'Ambika': 65000, 'Maya': 55000, 'Mandira ': 50000}\n",
            "The sorted dictionary is:\n",
            "[('Mandira ', 50000), ('Maya', 55000), ('Ambika', 65000)]\n",
            "The sum is:\n",
            "170000\n",
            "the maximum is:\n",
            "Ambika\n",
            "the minimum is:\n",
            "Mandira \n",
            "The average of salary is: 56666.666666666664\n"
          ],
          "name": "stdout"
        }
      ]
    },
    {
      "cell_type": "markdown",
      "metadata": {
        "id": "lkUd6kMquvoL",
        "colab_type": "text"
      },
      "source": [
        "#4.Add name and salary {name:salary} for n number of employees through keyboard in a dictionary and print only the employees whose salary is greater than 2000 but less than 4000"
      ]
    },
    {
      "cell_type": "code",
      "metadata": {
        "id": "5Yva92Zbu2VF",
        "colab_type": "code",
        "colab": {
          "base_uri": "https://localhost:8080/",
          "height": 175
        },
        "outputId": "22e16464-b1e9-453b-c34b-d474012a1e40"
      },
      "source": [
        " dict={}\n",
        "n=int(input(\"enter the no of employees:\"))\n",
        "for i in range(n):\n",
        "  name=input(\"Enter the name:\")\n",
        "  marks=int(input(\"Enter the salary:\"))\n",
        "  dict[name]=marks\n",
        "print(dict)\n",
        "res={key:val for key, val in dict.items() if val>2000 and val<4000}\n",
        "print(res)"
      ],
      "execution_count": null,
      "outputs": [
        {
          "output_type": "stream",
          "text": [
            "enter the no of employees:3\n",
            "Enter the name:AMBIKA \n",
            "Enter the salary:2500\n",
            "Enter the name:MAYA\n",
            "Enter the salary:2000\n",
            "Enter the name:MANDIRA \n",
            "Enter the salary:4000\n",
            "{'AMBIKA ': 2500, 'MAYA': 2000, 'MANDIRA ': 4000}\n",
            "{'AMBIKA ': 2500}\n"
          ],
          "name": "stdout"
        }
      ]
    },
    {
      "cell_type": "markdown",
      "metadata": {
        "id": "FVkAFHoxu3Bh",
        "colab_type": "text"
      },
      "source": [
        "#5.Python program to convert a 3 digit number  into words"
      ]
    },
    {
      "cell_type": "code",
      "metadata": {
        "id": "md65P8rLu_PB",
        "colab_type": "code",
        "colab": {
          "base_uri": "https://localhost:8080/",
          "height": 67
        },
        "outputId": "f4c440aa-253a-46ca-8a2c-f7471a260253"
      },
      "source": [
        " d={0:'',1:'one',2:'two',3:'three',4:'four',5:'five',6:'six',7:'seven',8:'eight',9:'nine',\\\n",
        "   10:'ten',11:'eleven',12:'twelve',13:'thirteen',14:'fourteen',15:'fifteen',16:'sixteen',\\\n",
        "   17:'seventeen',18:'eightteen',19:'nineteen',20:'twenty',30:'thirty',40:'fourty',50:'fifty',\\\n",
        "   60:'sixty',70:'seventy',80:'eighty',90:'ninty',100:'hundred',200:'twohundred',300:'threehundred',400:'fourhundred',500:'fivehundred',600:'sixhundred',700:'sevenhundred',800:'eighthundred',900:'ninehundred'}\n",
        "num=int(input(\"Enter the integer between 1 to 999:\"))\n",
        "if (num<=20):\n",
        "      print(d[num])\n",
        "if(num>20 and num<1000):\n",
        "        if num%10==0:       \n",
        "            print(d[num])\n",
        "        else:\n",
        "            print(d[num//10*10]+\" \"+d[num%10])"
      ],
      "execution_count": null,
      "outputs": [
        {
          "output_type": "stream",
          "text": [
            "Enter the integer between 1 to 999:77\n",
            "seventy seven\n"
          ],
          "name": "stdout"
        }
      ]
    }
  ]
}